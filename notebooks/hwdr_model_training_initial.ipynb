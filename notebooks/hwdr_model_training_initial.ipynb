{
 "cells": [
  {
   "cell_type": "code",
   "execution_count": 10,
   "id": "76afc4d5-b141-4fba-871b-7afe35f7a30b",
   "metadata": {
    "editable": true,
    "slideshow": {
     "slide_type": ""
    },
    "tags": []
   },
   "outputs": [
    {
     "name": "stdout",
     "output_type": "stream",
     "text": [
      "Updated sys.path: ['/opt/anaconda3/envs/mlopsproj/lib/python310.zip', '/opt/anaconda3/envs/mlopsproj/lib/python3.10', '/opt/anaconda3/envs/mlopsproj/lib/python3.10/lib-dynload', '', '/Users/pravinut/mlopsproj_py/lib/python3.10/site-packages', '/Users/pravinut/vnit/sem2/MLOPS/Assignments/Assignment2/aiml_orchestrators_assignment/src', '/Users/pravinut/vnit/sem2/MLOPS/Assignments/Assignment2/aiml_orchestrators_assignment/src', '/Users/pravinut/vnit/sem2/MLOPS/Assignments/Assignment2/aiml_orchestrators_assignment/src']\n"
     ]
    }
   ],
   "source": [
    "import sys\n",
    "import os\n",
    "\n",
    "# Get the absolute path of the project root\n",
    "PROJECT_ROOT = os.path.abspath(os.path.join(os.getcwd(), \"..\"))\n",
    "\n",
    "# Add 'src/' to Python path\n",
    "sys.path.append(os.path.join(PROJECT_ROOT, \"src\"))\n",
    "\n",
    "# Verify the path\n",
    "print(\"Updated sys.path:\", sys.path)"
   ]
  },
  {
   "cell_type": "code",
   "execution_count": 11,
   "id": "a748201a-13d3-4d36-b080-d9231839a324",
   "metadata": {
    "editable": true,
    "slideshow": {
     "slide_type": ""
    },
    "tags": []
   },
   "outputs": [],
   "source": [
    "import numpy as np\n",
    "import idx2numpy\n",
    "import os\n",
    "\n",
    "DATA_PATH = \"/Users/pravinut/vnit/sem2/mlops/Assignments/Assignment2/data\"\n",
    "\n",
    "def load_mnist_images(filename):\n",
    "    filepath = os.path.join(DATA_PATH, filename)\n",
    "    return idx2numpy.convert_from_file(filepath)\n",
    "\n",
    "def preprocess():\n",
    "    x_train = load_mnist_images(\"train-images.idx3-ubyte\") / 255.0\n",
    "    y_train = load_mnist_images(\"train-labels.idx1-ubyte\")\n",
    "    x_test = load_mnist_images(\"t10k-images.idx3-ubyte\") / 255.0\n",
    "    y_test = load_mnist_images(\"t10k-labels.idx1-ubyte\")\n",
    "    return (x_train, y_train), (x_test, y_test)\n",
    "\n",
    "if __name__ == \"__main__\":\n",
    "    preprocess()"
   ]
  },
  {
   "cell_type": "code",
   "execution_count": 14,
   "id": "445094a2-7b14-4f8a-bafa-c60c16dd6f29",
   "metadata": {},
   "outputs": [
    {
     "name": "stdout",
     "output_type": "stream",
     "text": [
      "MLflow Tracking URI: file:///Users/pravinut/vnit/sem2/mlops/Assignments/Assignment2/aiml_orchestrators_assignment/mlflow/mlruns\n"
     ]
    }
   ],
   "source": [
    "import mlflow\n",
    "\n",
    "# Set MLflow to use local directory\n",
    "mlflow.set_tracking_uri(\"file:///Users/pravinut/vnit/sem2/mlops/Assignments/Assignment2/aiml_orchestrators_assignment/mlflow/mlruns\")\n",
    "\n",
    "# Verify tracking URI\n",
    "print(\"MLflow Tracking URI:\", mlflow.get_tracking_uri())\n"
   ]
  },
  {
   "cell_type": "code",
   "execution_count": 15,
   "id": "68a70492-4a6e-4e51-b85f-265f857aa04e",
   "metadata": {
    "editable": true,
    "slideshow": {
     "slide_type": ""
    },
    "tags": []
   },
   "outputs": [
    {
     "name": "stderr",
     "output_type": "stream",
     "text": [
      "2025/02/17 02:48:54 INFO mlflow.tracking.fluent: Experiment with name 'Handwritten Digit Recognition' does not exist. Creating a new experiment.\n"
     ]
    },
    {
     "name": "stdout",
     "output_type": "stream",
     "text": [
      "Epoch 1/5\n",
      "\u001b[1m1875/1875\u001b[0m \u001b[32m━━━━━━━━━━━━━━━━━━━━\u001b[0m\u001b[37m\u001b[0m \u001b[1m12s\u001b[0m 6ms/step - accuracy: 0.9146 - loss: 0.3002 - val_accuracy: 0.9784 - val_loss: 0.0653\n",
      "Epoch 2/5\n",
      "\u001b[1m1875/1875\u001b[0m \u001b[32m━━━━━━━━━━━━━━━━━━━━\u001b[0m\u001b[37m\u001b[0m \u001b[1m12s\u001b[0m 6ms/step - accuracy: 0.9833 - loss: 0.0548 - val_accuracy: 0.9846 - val_loss: 0.0483\n",
      "Epoch 3/5\n",
      "\u001b[1m1875/1875\u001b[0m \u001b[32m━━━━━━━━━━━━━━━━━━━━\u001b[0m\u001b[37m\u001b[0m \u001b[1m12s\u001b[0m 6ms/step - accuracy: 0.9905 - loss: 0.0310 - val_accuracy: 0.9867 - val_loss: 0.0392\n",
      "Epoch 4/5\n",
      "\u001b[1m1875/1875\u001b[0m \u001b[32m━━━━━━━━━━━━━━━━━━━━\u001b[0m\u001b[37m\u001b[0m \u001b[1m13s\u001b[0m 7ms/step - accuracy: 0.9949 - loss: 0.0179 - val_accuracy: 0.9825 - val_loss: 0.0549\n",
      "Epoch 5/5\n",
      "\u001b[1m1875/1875\u001b[0m \u001b[32m━━━━━━━━━━━━━━━━━━━━\u001b[0m\u001b[37m\u001b[0m \u001b[1m11s\u001b[0m 6ms/step - accuracy: 0.9956 - loss: 0.0131 - val_accuracy: 0.9861 - val_loss: 0.0434\n",
      "\u001b[1m313/313\u001b[0m \u001b[32m━━━━━━━━━━━━━━━━━━━━\u001b[0m\u001b[37m\u001b[0m \u001b[1m1s\u001b[0m 2ms/step - accuracy: 0.9819 - loss: 0.0562 \n",
      "\u001b[1m1/1\u001b[0m \u001b[32m━━━━━━━━━━━━━━━━━━━━\u001b[0m\u001b[37m\u001b[0m \u001b[1m0s\u001b[0m 31ms/step\n",
      "\u001b[1m1/1\u001b[0m \u001b[32m━━━━━━━━━━━━━━━━━━━━\u001b[0m\u001b[37m\u001b[0m \u001b[1m0s\u001b[0m 29ms/step\n"
     ]
    }
   ],
   "source": [
    "import tensorflow as tf\n",
    "import mlflow\n",
    "import mlflow.tensorflow\n",
    "import pickle\n",
    "import joblib\n",
    "from hwdr_preprocess import preprocess\n",
    "\n",
    "\n",
    "\n",
    "\n",
    "mlflow.set_experiment(\"Handwritten Digit Recognition\")\n",
    "\n",
    "(x_train, y_train), (x_test, y_test) = preprocess()\n",
    "\n",
    "x_train = x_train.reshape(-1, 28, 28, 1)\n",
    "x_test = x_test.reshape(-1, 28, 28, 1)\n",
    "\n",
    "model = tf.keras.Sequential([\n",
    "    tf.keras.layers.Conv2D(32, (3,3), activation='relu', input_shape=(28,28,1)),\n",
    "    tf.keras.layers.MaxPooling2D(2,2),\n",
    "    tf.keras.layers.Flatten(),\n",
    "    tf.keras.layers.Dense(128, activation='relu'),\n",
    "    tf.keras.layers.Dense(10, activation='softmax')\n",
    "])\n",
    "\n",
    "model.compile(optimizer='adam', loss='sparse_categorical_crossentropy', metrics=['accuracy'])\n",
    "\n",
    "# Example input (for MLflow)\n",
    "input_example = np.random.rand(1, 28, 28, 1).astype(np.float32)\n",
    "\n",
    "# Start Experiment Run\n",
    "with mlflow.start_run():\n",
    "    model.fit(x_train, y_train, epochs=5, validation_data=(x_test, y_test))\n",
    "    \n",
    "    test_loss, test_acc = model.evaluate(x_test, y_test)\n",
    "\n",
    "    # Log Parameters and Metrics\n",
    "    mlflow.log_param(\"optimizer\", \"adam\")\n",
    "    mlflow.log_param(\"epochs\", 5)\n",
    "    mlflow.log_metric(\"test_accuracy\", test_acc)\n",
    "\n",
    "    # Log Model with Input Example\n",
    "    mlflow.tensorflow.log_model(model, \"hwdr_model\", input_example=input_example)\n",
    "\n",
    "    # Save using Pickle and Joblib\n",
    "    pickle.dump(model, open(\"../models/hwdr_best_model.pkl\", \"wb\"))\n",
    "    joblib.dump(model, \"../models/hwdr_best_model.joblib\")"
   ]
  },
  {
   "cell_type": "code",
   "execution_count": null,
   "id": "6fe701ed-1e93-4c26-b911-31dd49d8d9c1",
   "metadata": {},
   "outputs": [],
   "source": []
  }
 ],
 "metadata": {
  "kernelspec": {
   "display_name": "Python (mlopsproj_py)",
   "language": "python",
   "name": "mlopsproj_py"
  },
  "language_info": {
   "codemirror_mode": {
    "name": "ipython",
    "version": 3
   },
   "file_extension": ".py",
   "mimetype": "text/x-python",
   "name": "python",
   "nbconvert_exporter": "python",
   "pygments_lexer": "ipython3",
   "version": "3.10.16"
  }
 },
 "nbformat": 4,
 "nbformat_minor": 5
}

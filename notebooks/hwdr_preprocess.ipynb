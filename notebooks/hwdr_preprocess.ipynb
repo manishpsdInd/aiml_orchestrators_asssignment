{
 "cells": [
  {
   "cell_type": "code",
   "execution_count": 1,
   "id": "42ad6122-c2b6-47fa-ae09-c902f38a1293",
   "metadata": {},
   "outputs": [
    {
     "ename": "ModuleNotFoundError",
     "evalue": "No module named 'idx2numpy'",
     "output_type": "error",
     "traceback": [
      "\u001b[0;31m---------------------------------------------------------------------------\u001b[0m",
      "\u001b[0;31mModuleNotFoundError\u001b[0m                       Traceback (most recent call last)",
      "Cell \u001b[0;32mIn[1], line 2\u001b[0m\n\u001b[1;32m      1\u001b[0m \u001b[38;5;28;01mimport\u001b[39;00m\u001b[38;5;250m \u001b[39m\u001b[38;5;21;01mnumpy\u001b[39;00m\u001b[38;5;250m \u001b[39m\u001b[38;5;28;01mas\u001b[39;00m\u001b[38;5;250m \u001b[39m\u001b[38;5;21;01mnp\u001b[39;00m\n\u001b[0;32m----> 2\u001b[0m \u001b[38;5;28;01mimport\u001b[39;00m\u001b[38;5;250m \u001b[39m\u001b[38;5;21;01midx2numpy\u001b[39;00m\n\u001b[1;32m      3\u001b[0m \u001b[38;5;28;01mimport\u001b[39;00m\u001b[38;5;250m \u001b[39m\u001b[38;5;21;01mos\u001b[39;00m\n\u001b[1;32m      5\u001b[0m DATA_PATH \u001b[38;5;241m=\u001b[39m \u001b[38;5;124m\"\u001b[39m\u001b[38;5;124m/Users/pravinut/vnit/sem2/mlops/Assignments/Assignment2/data\u001b[39m\u001b[38;5;124m\"\u001b[39m\n",
      "\u001b[0;31mModuleNotFoundError\u001b[0m: No module named 'idx2numpy'"
     ]
    }
   ],
   "source": [
    "import numpy as np\n",
    "import idx2numpy\n",
    "import os\n",
    "\n",
    "DATA_PATH = \"/Users/pravinut/vnit/sem2/mlops/Assignments/Assignment2/data\"\n",
    "\n",
    "def load_mnist_images(filename):\n",
    "    filepath = os.path.join(DATA_PATH, filename)\n",
    "    return idx2numpy.convert_from_file(filepath)\n",
    "\n",
    "def preprocess():\n",
    "    x_train = load_mnist_images(\"train-images.idx3-ubyte\") / 255.0\n",
    "    y_train = load_mnist_images(\"train-labels.idx1-ubyte\")\n",
    "    x_test = load_mnist_images(\"t10k-images.idx3-ubyte\") / 255.0\n",
    "    y_test = load_mnist_images(\"t10k-labels.idx1-ubyte\")\n",
    "    return (x_train, y_train), (x_test, y_test)\n",
    "\n",
    "if __name__ == \"__main__\":\n",
    "    preprocess()"
   ]
  },
  {
   "cell_type": "code",
   "execution_count": null,
   "id": "3b874fb7-d1e5-44ff-bf82-f56425f7fdda",
   "metadata": {},
   "outputs": [],
   "source": []
  }
 ],
 "metadata": {
  "kernelspec": {
   "display_name": "Python 3 (ipykernel)",
   "language": "python",
   "name": "python3"
  },
  "language_info": {
   "codemirror_mode": {
    "name": "ipython",
    "version": 3
   },
   "file_extension": ".py",
   "mimetype": "text/x-python",
   "name": "python",
   "nbconvert_exporter": "python",
   "pygments_lexer": "ipython3",
   "version": "3.10.16"
  }
 },
 "nbformat": 4,
 "nbformat_minor": 5
}
